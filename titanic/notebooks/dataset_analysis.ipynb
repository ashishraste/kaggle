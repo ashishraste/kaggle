{
  "cells": [
    {
      "metadata": {
        "_cell_guid": "b525f7d5-90a8-4793-89d5-87deacab670f",
        "_uuid": "7518b8027266c7919787d63c779390f2fd65c5ec"
      },
      "cell_type": "markdown",
      "source": "### Analysis of the titanic dataset"
    },
    {
      "metadata": {
        "_cell_guid": "e610a1ac-4f73-4cd9-bdfa-690876a78f81",
        "_uuid": "e7f087fcb5b0219b7cf9cbe51cf8b17f8211b190"
      },
      "cell_type": "markdown",
      "source": "#### Helper functions\nPlotting functions to help us visualize the dataset."
    },
    {
      "metadata": {
        "_cell_guid": "ef68a44f-7db0-4cce-8839-84cc78816e68",
        "_uuid": "2747677def9d0a82fecfde7bcde33c57dca8bc6f",
        "collapsed": true,
        "trusted": true
      },
      "cell_type": "code",
      "source": "def plotDistribution(df, var, target, **kwargs):\n    row = kwargs.get('row', None)\n    col = kwargs.get('col', None)\n    fg = sns.FacetGrid(df, hue=target, aspect=4, row=row, col=col)\n    fg.map(sns.kdeplot, var, shade=True)\n    fg.set(xlim=(0, df[var].max()))\n    facet.add_legend()",
      "execution_count": 20,
      "outputs": []
    },
    {
      "metadata": {
        "_cell_guid": "f562b933-d328-4ab7-91d6-6059957844f8",
        "_uuid": "da171750c1f45ca01e4ad003aaece15d972473dc"
      },
      "cell_type": "markdown",
      "source": "#### Data collection routine\nCollect train and test datasets. Combine both to have a 'full' dataset."
    },
    {
      "metadata": {
        "_cell_guid": "82de40e2-a6e8-4d19-929b-a832e3d7e649",
        "_uuid": "69cfb0214baf429a82082a2b6d5c4806fcaca98b",
        "trusted": true
      },
      "cell_type": "code",
      "source": "import os\nimport pandas as pd\nimport numpy as np\nimport matplotlib.pyplot as plt\nimport seaborn as sns\n%matplotlib inline\n\ndfTrain = pd.read_csv('../input/train.csv')\ndfTest  = pd.read_csv('../input/test.csv')\ndfFull  = pd.concat([dfTrain, dfTest], ignore_index=True) \n\ndataset = dfTrain.as_matrix()\n\n# Replacing 'Sex' column with 0,1 : 0 for male, 1 for female.\ndfFull = dfFull.replace({\"Sex\":{'male':0,'female':1}})\n\ndfFull.head()\n",
      "execution_count": 21,
      "outputs": [
        {
          "data": {
            "text/html": "<div>\n<style>\n    .dataframe thead tr:only-child th {\n        text-align: right;\n    }\n\n    .dataframe thead th {\n        text-align: left;\n    }\n\n    .dataframe tbody tr th {\n        vertical-align: top;\n    }\n</style>\n<table border=\"1\" class=\"dataframe\">\n  <thead>\n    <tr style=\"text-align: right;\">\n      <th></th>\n      <th>Age</th>\n      <th>Cabin</th>\n      <th>Embarked</th>\n      <th>Fare</th>\n      <th>Name</th>\n      <th>Parch</th>\n      <th>PassengerId</th>\n      <th>Pclass</th>\n      <th>Sex</th>\n      <th>SibSp</th>\n      <th>Survived</th>\n      <th>Ticket</th>\n    </tr>\n  </thead>\n  <tbody>\n    <tr>\n      <th>0</th>\n      <td>22.0</td>\n      <td>NaN</td>\n      <td>S</td>\n      <td>7.2500</td>\n      <td>Braund, Mr. Owen Harris</td>\n      <td>0</td>\n      <td>1</td>\n      <td>3</td>\n      <td>0</td>\n      <td>1</td>\n      <td>0.0</td>\n      <td>A/5 21171</td>\n    </tr>\n    <tr>\n      <th>1</th>\n      <td>38.0</td>\n      <td>C85</td>\n      <td>C</td>\n      <td>71.2833</td>\n      <td>Cumings, Mrs. John Bradley (Florence Briggs Th...</td>\n      <td>0</td>\n      <td>2</td>\n      <td>1</td>\n      <td>1</td>\n      <td>1</td>\n      <td>1.0</td>\n      <td>PC 17599</td>\n    </tr>\n    <tr>\n      <th>2</th>\n      <td>26.0</td>\n      <td>NaN</td>\n      <td>S</td>\n      <td>7.9250</td>\n      <td>Heikkinen, Miss. Laina</td>\n      <td>0</td>\n      <td>3</td>\n      <td>3</td>\n      <td>1</td>\n      <td>0</td>\n      <td>1.0</td>\n      <td>STON/O2. 3101282</td>\n    </tr>\n    <tr>\n      <th>3</th>\n      <td>35.0</td>\n      <td>C123</td>\n      <td>S</td>\n      <td>53.1000</td>\n      <td>Futrelle, Mrs. Jacques Heath (Lily May Peel)</td>\n      <td>0</td>\n      <td>4</td>\n      <td>1</td>\n      <td>1</td>\n      <td>1</td>\n      <td>1.0</td>\n      <td>113803</td>\n    </tr>\n    <tr>\n      <th>4</th>\n      <td>35.0</td>\n      <td>NaN</td>\n      <td>S</td>\n      <td>8.0500</td>\n      <td>Allen, Mr. William Henry</td>\n      <td>0</td>\n      <td>5</td>\n      <td>3</td>\n      <td>0</td>\n      <td>0</td>\n      <td>0.0</td>\n      <td>373450</td>\n    </tr>\n  </tbody>\n</table>\n</div>",
            "text/plain": "    Age Cabin Embarked     Fare  \\\n0  22.0   NaN        S   7.2500   \n1  38.0   C85        C  71.2833   \n2  26.0   NaN        S   7.9250   \n3  35.0  C123        S  53.1000   \n4  35.0   NaN        S   8.0500   \n\n                                                Name  Parch  PassengerId  \\\n0                            Braund, Mr. Owen Harris      0            1   \n1  Cumings, Mrs. John Bradley (Florence Briggs Th...      0            2   \n2                             Heikkinen, Miss. Laina      0            3   \n3       Futrelle, Mrs. Jacques Heath (Lily May Peel)      0            4   \n4                           Allen, Mr. William Henry      0            5   \n\n   Pclass  Sex  SibSp  Survived            Ticket  \n0       3    0      1       0.0         A/5 21171  \n1       1    1      1       1.0          PC 17599  \n2       3    1      0       1.0  STON/O2. 3101282  \n3       1    1      1       1.0            113803  \n4       3    0      0       0.0            373450  "
          },
          "execution_count": 21,
          "metadata": {},
          "output_type": "execute_result"
        }
      ]
    },
    {
      "metadata": {
        "_uuid": "62003d7830435421f6a5292cbcf04633aeb07f65"
      },
      "cell_type": "markdown",
      "source": "Drawing a correlation map among variables in the dataset."
    },
    {
      "metadata": {
        "trusted": true,
        "collapsed": true,
        "_uuid": "d847f00ba956333d83dd4b5182623f94a310b63b"
      },
      "cell_type": "code",
      "source": "corr = dfFull.corr()\nsns.heatmap(dfFull.corr(), xticklabels=corr.columns.values, yticklabels=corr.columns.values, annot=True)\n",
      "execution_count": null,
      "outputs": []
    },
    {
      "metadata": {
        "_uuid": "7c31eb1998262d249d36cb6308a156c481a4cff0"
      },
      "cell_type": "markdown",
      "source": "Notes: By glancing at the correlation map, survival is highly correlated with Sex, Pclass, Fare, Parch, Age in that order."
    },
    {
      "metadata": {
        "_cell_guid": "62255ada-8c82-4ab5-939d-fdf85629c624",
        "_uuid": "3917c0743474002964beeb327212c607f89aeec1"
      },
      "cell_type": "markdown",
      "source": "#### Data transformation\nAs part of transforming the data, we do the following.\n* A new column by name 'Title' is added to the dataframe, which holds the titles of people extracted from their names.\n* A new column for  holding family size variable is created, based on number of sibling/spouse and parent/children.\n* Replacing NaN values in Age column by predicted age values, prediction being based on regression among title, fare, family size and embarkation.\n"
    },
    {
      "metadata": {
        "_cell_guid": "2e990018-0b20-4b9e-b00a-761fae8b2076",
        "_kg_hide-output": true,
        "_uuid": "072e9253c746c6131e429ee8d428853ef0c89abd",
        "trusted": true
      },
      "cell_type": "code",
      "source": "# Extracting titles.\ntitle = pd.DataFrame()\ntitles = dfFull['Name'].str.extract('(,)(.*?\\.)',expand=True)[1]\ncnt = 0\nfor t in titles:\n    titles[cnt] = t.strip().strip('.')\n    cnt += 1\ntitle['Title'] = titles\n#print(titles.unique())\n    \n# Creating new column to hold family size variable.\nfamilySize = pd.DataFrame()\nfamilySize['FamilySize'] = dfFull['SibSp'] + dfFull['Parch'] + 1\n\n# Notice that we have some empty values in columns {Fare,Embarked}.\ndfFull['Fare'].isnull().values.any()\ndfFull['Embarked'].isnull().values.any()\n\n",
      "execution_count": 19,
      "outputs": [
        {
          "data": {
            "text/plain": "True"
          },
          "execution_count": 19,
          "metadata": {},
          "output_type": "execute_result"
        }
      ]
    },
    {
      "metadata": {
        "_cell_guid": "5fb00488-1beb-4c9d-b251-232fda9f650c",
        "_uuid": "203343aaaca27eedd0ebbd8ddb1d43078eac1cae",
        "collapsed": true
      },
      "cell_type": "markdown",
      "source": "#### Density plots\nFollowing plots show the distribution of people who survived, with respect to a target attribute like Age."
    },
    {
      "metadata": {
        "_cell_guid": "9f3aff5a-503e-4240-b54f-148ec1e93a5d",
        "_uuid": "4e9218361f20d7411a33031865b6ecd5150a75ea",
        "collapsed": true,
        "trusted": true
      },
      "cell_type": "code",
      "source": "plotDistribution(dfTrain, var='Age', target='Survived', row='Sex')\n",
      "execution_count": null,
      "outputs": []
    }
  ],
  "metadata": {
    "kernelspec": {
      "display_name": "Python 3",
      "language": "python",
      "name": "python3"
    },
    "language_info": {
      "codemirror_mode": {
        "name": "ipython",
        "version": 3
      },
      "file_extension": ".py",
      "mimetype": "text/x-python",
      "name": "python",
      "nbconvert_exporter": "python",
      "pygments_lexer": "ipython3",
      "version": "3.6.4"
    }
  },
  "nbformat": 4,
  "nbformat_minor": 1
}